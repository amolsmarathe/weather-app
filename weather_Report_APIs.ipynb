{
 "cells": [
  {
   "cell_type": "code",
   "execution_count": 2,
   "metadata": {},
   "outputs": [],
   "source": [
    "import requests"
   ]
  },
  {
   "cell_type": "markdown",
   "metadata": {},
   "source": [
    "## Tests to check all the different APIs"
   ]
  },
  {
   "cell_type": "code",
   "execution_count": 40,
   "metadata": {},
   "outputs": [],
   "source": [
    "base_url_ip = 'https://api.ipify.org'\n",
    "response_ip = requests.get(base_url_ip)"
   ]
  },
  {
   "cell_type": "code",
   "execution_count": 41,
   "metadata": {
    "scrolled": true
   },
   "outputs": [
    {
     "name": "stdout",
     "output_type": "stream",
     "text": [
      "Your ip address is: 3.92.59.132\n"
     ]
    }
   ],
   "source": [
    "print(f'Your ip address is: {response_ip.text}')"
   ]
  },
  {
   "cell_type": "code",
   "execution_count": 42,
   "metadata": {},
   "outputs": [],
   "source": [
    "base_url_geo = 'http://ip-api.com/json/'\n",
    "response_geo = requests.get(base_url_geo, params=response_ip.text)"
   ]
  },
  {
   "cell_type": "code",
   "execution_count": 43,
   "metadata": {
    "scrolled": true
   },
   "outputs": [
    {
     "data": {
      "text/plain": [
       "{'status': 'success',\n",
       " 'country': 'United States',\n",
       " 'countryCode': 'US',\n",
       " 'region': 'VA',\n",
       " 'regionName': 'Virginia',\n",
       " 'city': 'Ashburn',\n",
       " 'zip': '20149',\n",
       " 'lat': 39.0438,\n",
       " 'lon': -77.4874,\n",
       " 'timezone': 'America/New_York',\n",
       " 'isp': 'Amazon Technologies Inc.',\n",
       " 'org': 'AWS EC2 (us-east-1)',\n",
       " 'as': 'AS14618 Amazon.com, Inc.',\n",
       " 'query': '3.92.59.132'}"
      ]
     },
     "execution_count": 43,
     "metadata": {},
     "output_type": "execute_result"
    }
   ],
   "source": [
    "response_geo.json()"
   ]
  },
  {
   "cell_type": "code",
   "execution_count": 44,
   "metadata": {},
   "outputs": [],
   "source": [
    "base_url_weather = 'https://api.met.no/weatherapi/locationforecast/2.0/compact'\n",
    "response_weather = requests.get(base_url_weather, params={'lat':39.0438, 'lon':-77.4874})"
   ]
  },
  {
   "cell_type": "code",
   "execution_count": 45,
   "metadata": {
    "scrolled": true
   },
   "outputs": [
    {
     "data": {
      "text/plain": [
       "21.7"
      ]
     },
     "execution_count": 45,
     "metadata": {},
     "output_type": "execute_result"
    }
   ],
   "source": [
    "response_weather.json()\n",
    "response_weather.json()['properties']['timeseries'][0]['data']['instant']['details']['air_temperature']"
   ]
  },
  {
   "cell_type": "markdown",
   "metadata": {},
   "source": [
    "## Create methods for each API process and 1 main() method"
   ]
  },
  {
   "cell_type": "code",
   "execution_count": 47,
   "metadata": {},
   "outputs": [
    {
     "data": {
      "text/plain": [
       "'3.92.59.132'"
      ]
     },
     "execution_count": 47,
     "metadata": {},
     "output_type": "execute_result"
    }
   ],
   "source": [
    "def get_ip():\n",
    "    base_url_ip = 'https://api.ipify.org'\n",
    "    return requests.get(base_url_ip).text\n",
    "get_ip()"
   ]
  },
  {
   "cell_type": "code",
   "execution_count": 3,
   "metadata": {},
   "outputs": [
    {
     "data": {
      "text/plain": [
       "{'lat': 39.0438,\n",
       " 'lon': -77.4874,\n",
       " 'city': 'Ashburn',\n",
       " 'country': 'United States'}"
      ]
     },
     "execution_count": 3,
     "metadata": {},
     "output_type": "execute_result"
    }
   ],
   "source": [
    "def get_geo(ip):\n",
    "    base_url_geo = 'http://ip-api.com/json/'\n",
    "    response_geo = requests.get(base_url_geo, params=ip).json()\n",
    "    geo_info = ('lat', 'lon', 'city', 'country')\n",
    "    return {info: response_geo[info] for info in geo_info}\n",
    "get_geo('3.92.59.132')"
   ]
  },
  {
   "cell_type": "code",
   "execution_count": 56,
   "metadata": {},
   "outputs": [
    {
     "data": {
      "text/plain": [
       "21.7"
      ]
     },
     "execution_count": 56,
     "metadata": {},
     "output_type": "execute_result"
    }
   ],
   "source": [
    "def get_weather(lat, lon):\n",
    "    base_url_weather = 'https://api.met.no/weatherapi/locationforecast/2.0/compact'\n",
    "    response_weather = requests.get(base_url_weather, params={'lat':lat, 'lon':lon}).json()\n",
    "    return response_weather['properties']['timeseries'][0]['data']['instant']['details']['air_temperature']\n",
    "get_weather(39.0438, -77.4874)"
   ]
  },
  {
   "cell_type": "code",
   "execution_count": 57,
   "metadata": {},
   "outputs": [
    {
     "name": "stdout",
     "output_type": "stream",
     "text": [
      "Temperature at your location is: 21.4 degree celsius\n"
     ]
    }
   ],
   "source": [
    "def main():\n",
    "    ip = get_ip()\n",
    "    lat, lon = get_geo(ip)\n",
    "    temp = get_weather(lat, lon)\n",
    "    print(f'Temperature at your location is: {temp} degree celsius')\n",
    "main()"
   ]
  },
  {
   "cell_type": "code",
   "execution_count": null,
   "metadata": {},
   "outputs": [],
   "source": []
  }
 ],
 "metadata": {
  "kernelspec": {
   "display_name": "Python 3",
   "language": "python",
   "name": "python3"
  },
  "language_info": {
   "codemirror_mode": {
    "name": "ipython",
    "version": 3
   },
   "file_extension": ".py",
   "mimetype": "text/x-python",
   "name": "python",
   "nbconvert_exporter": "python",
   "pygments_lexer": "ipython3",
   "version": "3.7.3"
  }
 },
 "nbformat": 4,
 "nbformat_minor": 2
}
